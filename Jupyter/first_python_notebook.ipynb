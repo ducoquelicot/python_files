


#%% Change working directory from the workspace root to the ipynb file location. Turn this addition off with the DataScience.changeDirOnImportExport setting
import os
try:
	os.chdir(os.path.join(os.getcwd(), 'Jupyter'))
	print(os.getcwd())
except:
	pass

#%%
# Change directory to VSCode workspace root so that relative path loads work correctly. Turn this addition off with the DataScience.changeDirOnImportExport setting
import os
try:
	os.chdir(os.path.join(os.getcwd(), '..'))
	print(os.getcwd())
except:
	pass

#%% [markdown]
# ## First Python Notebook
# Hello world!

#%%
import pandas


#%%
committees = pandas.read_csv("https://first-python-notebook.readthedocs.io/_static/committees.csv")


#%%
committees.info()


#%%
committees.head(30)


#%%
committees.tail()


#%%
contributions = pandas.read_csv("https://first-python-notebook.readthedocs.io/_static/contributions.csv")


#%%
contributions.info()


#%%
contributions.head()


#%%
committees.head()


#%%
committees.prop_name


#%%
committees.prop_name.value_counts()


#%%
committees.prop_name.value_counts().reset_index()


#%%
prop_64 = committees[committees.prop_name == 'PROPOSITION 064- MARIJUANA LEGALIZATION. INITIATIVE STATUTE.']


#%%
prop_64.info


#%%
prop_64.info()


#%%
contributions.info()


#%%
merged = prop_64.merge(contributions, on='calaccess_committee_id', how='inner')


#%%
merged.info()


#%%
merged.committee_position.value_counts()


#%%
merged.amount.sum()


#%%
merged.groupby('committee_position').amount.sum()


#%%
opposed = merged[merged.committee_position == 'OPPOSE'].sort_values("amount", ascending = False)


#%%
support = merged[merged.committee_position == 'SUPPORT'].sort_values("amount", ascending = False)


#%%
support.amount.sum() / merged.amount.sum()


#%%
support.sort_values("amount", ascending = False).head()


#%%
opposed.sort_values("amount", ascending = False).head()


#%%
merged.groupby(["contributor_firstname", "contributor_lastname"]).amount.sum().reset_index().sort_values("amount", ascending = False)


#%%
opposed.sort_values("amount", ascending = False).head()

#%%




#%%
%matplotlib inline

#%%
top_supporters = support.groupby(["contributor_firstname", "contributor_lastname"]).amount.sum().reset_index().sort_values("amount", ascending = False).head(10)
#%%
top_supporters.head(10)

#%%
top_supporters.amount.plot.bar()

#%%
top_supporters.amount.plot.barh()

#%%
chart = top_supporters.head(5).amount.plot.barh()

#%%
chart.set_yticklabels(top_supporters.contributor_lastname)

#%%
chart

#%%
top_supporters['contributor_fullname'] = top_supporters.contributor_firstname + " " + top_supporters.contributor_lastname

#%%
top_supporters.head()

#%%
chart = top_supporters.head(5).amount.plot.barh()
chart.set_yticklabels(top_supporters.contributor_fullname)

#%%
top_supporters.head(5).to_csv("top_supporters.csv")

#%%
def combine_names(row):
	if row.contributor_fullname.startswith("SEAN PARKER"):
		return "SEAN PARKER"
	return row.contributor_fullname


#%%
top_supporters.apply(combine_names, axis =1)

#%%
top_supporters['contributor_cleanname'] = top_supporters.apply(combine_names, axis =1)

#%%
top_supporters.groupby("contributor_cleanname").amount.sum().reset_index().sort_values("amount", ascending=False).head(10)

#%%
